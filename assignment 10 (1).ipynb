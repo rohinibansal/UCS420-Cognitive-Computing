{
 "cells": [
  {
   "cell_type": "code",
   "execution_count": 6,
   "id": "6de64eb0-0bd6-4db9-91c1-c37749f93ec3",
   "metadata": {},
   "outputs": [
    {
     "name": "stdout",
     "output_type": "stream",
     "text": [
      "one of my favorite topics is technology, especially how it's shaping the future through artificial intelligence. the rapid advancements in ai are transforming industries—from healthcare diagnostics to self-driving cars—making tasks more efficient and sometimes even safer. i’m fascinated by how machine learning allows computers to learn from data and improve over time without being explicitly programmed. it's exciting to imagine a world where smart systems can assist with everyday decisions or automate complex problem-solving. however, with such power comes the responsibility to use it ethically and transparently. exploring both the possibilities and the challenges of ai keeps me constantly curious and inspired.\n"
     ]
    }
   ],
   "source": [
    "para=\"\"\"One of my favorite topics is technology, especially how it's shaping the future through artificial intelligence. The rapid advancements in AI are transforming industries—from healthcare diagnostics to self-driving cars—making tasks more efficient and sometimes even safer. I’m fascinated by how machine learning allows computers to learn from data and improve over time without being explicitly programmed. It's exciting to imagine a world where smart systems can assist with everyday decisions or automate complex problem-solving. However, with such power comes the responsibility to use it ethically and transparently. Exploring both the possibilities and the challenges of AI keeps me constantly curious and inspired.\"\"\"\n",
    "lowercase=para.lower()\n",
    "print(lowercase)"
   ]
  },
  {
   "cell_type": "code",
   "execution_count": 7,
   "id": "54aaffc1-d58f-4ec9-adf7-4b095360d080",
   "metadata": {},
   "outputs": [
    {
     "name": "stdout",
     "output_type": "stream",
     "text": [
      "one of my favorite topics is technology especially how its shaping the future through artificial intelligence the rapid advancements in ai are transforming industriesfrom healthcare diagnostics to selfdriving carsmaking tasks more efficient and sometimes even safer im fascinated by how machine learning allows computers to learn from data and improve over time without being explicitly programmed its exciting to imagine a world where smart systems can assist with everyday decisions or automate complex problemsolving however with such power comes the responsibility to use it ethically and transparently exploring both the possibilities and the challenges of ai keeps me constantly curious and inspired\n"
     ]
    }
   ],
   "source": [
    "import re\n",
    "clean_text=re.sub(r'[^\\w\\s]','',lowercase)\n",
    "print(clean_text)"
   ]
  },
  {
   "cell_type": "code",
   "execution_count": 8,
   "id": "03b01c7f-dfb3-4cf1-8e71-994f6a7dee0c",
   "metadata": {},
   "outputs": [
    {
     "name": "stdout",
     "output_type": "stream",
     "text": [
      "['one', 'of', 'my', 'favorite', 'topics', 'is', 'technology', 'especially', 'how', 'its', 'shaping', 'the', 'future', 'through', 'artificial', 'intelligence', 'the', 'rapid', 'advancements', 'in', 'ai', 'are', 'transforming', 'industriesfrom', 'healthcare', 'diagnostics', 'to', 'selfdriving', 'carsmaking', 'tasks', 'more', 'efficient', 'and', 'sometimes', 'even', 'safer', 'im', 'fascinated', 'by', 'how', 'machine', 'learning', 'allows', 'computers', 'to', 'learn', 'from', 'data', 'and', 'improve', 'over', 'time', 'without', 'being', 'explicitly', 'programmed', 'its', 'exciting', 'to', 'imagine', 'a', 'world', 'where', 'smart', 'systems', 'can', 'assist', 'with', 'everyday', 'decisions', 'or', 'automate', 'complex', 'problemsolving', 'however', 'with', 'such', 'power', 'comes', 'the', 'responsibility', 'to', 'use', 'it', 'ethically', 'and', 'transparently', 'exploring', 'both', 'the', 'possibilities', 'and', 'the', 'challenges', 'of', 'ai', 'keeps', 'me', 'constantly', 'curious', 'and', 'inspired']\n",
      "['one of my favorite topics is technology especially how its shaping the future through artificial intelligence the rapid advancements in ai are transforming industriesfrom healthcare diagnostics to selfdriving carsmaking tasks more efficient and sometimes even safer im fascinated by how machine learning allows computers to learn from data and improve over time without being explicitly programmed its exciting to imagine a world where smart systems can assist with everyday decisions or automate complex problemsolving however with such power comes the responsibility to use it ethically and transparently exploring both the possibilities and the challenges of ai keeps me constantly curious and inspired']\n"
     ]
    }
   ],
   "source": [
    "from nltk import word_tokenize,sent_tokenize\n",
    "words=word_tokenize(clean_text)\n",
    "print(words)\n",
    "sent=sent_tokenize(clean_text)\n",
    "print(sent)"
   ]
  },
  {
   "cell_type": "code",
   "execution_count": 9,
   "id": "14fa22b8-873a-4cec-8099-b1ebac77c2bf",
   "metadata": {},
   "outputs": [
    {
     "name": "stdout",
     "output_type": "stream",
     "text": [
      "['one', 'favorite', 'topics', 'technology', 'especially', 'shaping', 'future', 'artificial', 'intelligence', 'rapid', 'advancements', 'ai', 'transforming', 'industriesfrom', 'healthcare', 'diagnostics', 'selfdriving', 'carsmaking', 'tasks', 'efficient', 'sometimes', 'even', 'safer', 'im', 'fascinated', 'machine', 'learning', 'allows', 'computers', 'learn', 'data', 'improve', 'time', 'without', 'explicitly', 'programmed', 'exciting', 'imagine', 'world', 'smart', 'systems', 'assist', 'everyday', 'decisions', 'automate', 'complex', 'problemsolving', 'however', 'power', 'comes', 'responsibility', 'use', 'ethically', 'transparently', 'exploring', 'possibilities', 'challenges', 'ai', 'keeps', 'constantly', 'curious', 'inspired']\n"
     ]
    }
   ],
   "source": [
    "from nltk.corpus import stopwords\n",
    "stopwords=stopwords.words('English')\n",
    "filtered_words=[word for word in words if word not in stopwords]\n",
    "print(filtered_words)"
   ]
  },
  {
   "cell_type": "code",
   "execution_count": 10,
   "id": "14a04bae-c9a4-4de1-b233-054cd4b17d86",
   "metadata": {},
   "outputs": [
    {
     "name": "stdout",
     "output_type": "stream",
     "text": [
      "[('ai', 2), ('one', 1), ('favorite', 1), ('topics', 1), ('technology', 1), ('especially', 1), ('shaping', 1), ('future', 1), ('artificial', 1), ('intelligence', 1)]\n"
     ]
    }
   ],
   "source": [
    "from nltk.probability import FreqDist\n",
    "freq=FreqDist(filtered_words)\n",
    "print(freq.most_common(10))"
   ]
  },
  {
   "cell_type": "code",
   "execution_count": 11,
   "id": "d64d386b-eab4-4cd8-9be9-3eff6f440b53",
   "metadata": {},
   "outputs": [
    {
     "name": "stdout",
     "output_type": "stream",
     "text": [
      "['one', 'of', 'my', 'favorite', 'topics', 'is', 'technology', 'especially', 'how', 'its', 'shaping', 'the', 'future', 'through', 'artificial', 'intelligence', 'the', 'rapid', 'advancements', 'in', 'ai', 'are', 'transforming', 'industriesfrom', 'healthcare', 'diagnostics', 'to', 'selfdriving', 'carsmaking', 'tasks', 'more', 'efficient', 'and', 'sometimes', 'even', 'safer', 'im', 'fascinated', 'by', 'how', 'machine', 'learning', 'allows', 'computers', 'to', 'learn', 'from', 'data', 'and', 'improve', 'over', 'time', 'without', 'being', 'explicitly', 'programmed', 'its', 'exciting', 'to', 'imagine', 'a', 'world', 'where', 'smart', 'systems', 'can', 'assist', 'with', 'everyday', 'decisions', 'or', 'automate', 'complex', 'problemsolving', 'however', 'with', 'such', 'power', 'comes', 'the', 'responsibility', 'to', 'use', 'it', 'ethically', 'and', 'transparently', 'exploring', 'both', 'the', 'possibilities', 'and', 'the', 'challenges', 'of', 'ai', 'keeps', 'me', 'constantly', 'curious', 'and', 'inspired']\n"
     ]
    }
   ],
   "source": [
    "alpha=re.findall(r'[\\b[a-zA-Z]+\\b',clean_text)\n",
    "print(alpha)"
   ]
  },
  {
   "cell_type": "code",
   "execution_count": 12,
   "id": "9003bcd8-79fb-4dc6-ad82-5ea9332d4fe6",
   "metadata": {},
   "outputs": [
    {
     "name": "stdout",
     "output_type": "stream",
     "text": [
      "['one', 'favorite', 'topics', 'technology', 'especially', 'shaping', 'future', 'artificial', 'intelligence', 'rapid', 'advancements', 'ai', 'transforming', 'industriesfrom', 'healthcare', 'diagnostics', 'selfdriving', 'carsmaking', 'tasks', 'efficient', 'sometimes', 'even', 'safer', 'im', 'fascinated', 'machine', 'learning', 'allows', 'computers', 'learn', 'data', 'improve', 'time', 'without', 'explicitly', 'programmed', 'exciting', 'imagine', 'world', 'smart', 'systems', 'assist', 'everyday', 'decisions', 'automate', 'complex', 'problemsolving', 'however', 'power', 'comes', 'responsibility', 'use', 'ethically', 'transparently', 'exploring', 'possibilities', 'challenges', 'ai', 'keeps', 'constantly', 'curious', 'inspired']\n"
     ]
    }
   ],
   "source": [
    "clean_words=[word for word in alpha if word not in stopwords]\n",
    "print(clean_words)"
   ]
  },
  {
   "cell_type": "code",
   "execution_count": 13,
   "id": "04397659-87e6-4adb-bb4a-3c1b29c00338",
   "metadata": {},
   "outputs": [
    {
     "name": "stdout",
     "output_type": "stream",
     "text": [
      "stemming results\n",
      " ['one', 'favorit', 'topic', 'technolog', 'especi', 'shape', 'futur', 'artifici', 'intellig', 'rapid', 'advanc', 'ai', 'transform', 'industriesfrom', 'healthcar', 'diagnost', 'selfdriv', 'carsmak', 'task', 'effici', 'sometim', 'even', 'safer', 'im', 'fascin', 'machin', 'learn', 'allow', 'comput', 'learn', 'data', 'improv', 'time', 'without', 'explicitli', 'program', 'excit', 'imagin', 'world', 'smart', 'system', 'assist', 'everyday', 'decis', 'autom', 'complex', 'problemsolv', 'howev', 'power', 'come', 'respons', 'use', 'ethic', 'transpar', 'explor', 'possibl', 'challeng', 'ai', 'keep', 'constantli', 'curiou', 'inspir']\n",
      "lemmatizing results\n",
      " ['one', 'favorite', 'topic', 'technology', 'especially', 'shaping', 'future', 'artificial', 'intelligence', 'rapid', 'advancement', 'ai', 'transforming', 'industriesfrom', 'healthcare', 'diagnostics', 'selfdriving', 'carsmaking', 'task', 'efficient', 'sometimes', 'even', 'safer', 'im', 'fascinated', 'machine', 'learning', 'allows', 'computer', 'learn', 'data', 'improve', 'time', 'without', 'explicitly', 'programmed', 'exciting', 'imagine', 'world', 'smart', 'system', 'assist', 'everyday', 'decision', 'automate', 'complex', 'problemsolving', 'however', 'power', 'come', 'responsibility', 'use', 'ethically', 'transparently', 'exploring', 'possibility', 'challenge', 'ai', 'keep', 'constantly', 'curious', 'inspired']\n"
     ]
    }
   ],
   "source": [
    "from nltk.stem import PorterStemmer,WordNetLemmatizer\n",
    "stem=PorterStemmer()\n",
    "lemmat=WordNetLemmatizer()\n",
    "stemmed_words=[stem.stem(word) for word in clean_words]\n",
    "print('stemming results\\n',stemmed_words)\n",
    "lemmatize_words=[lemmat.lemmatize(word) for word in clean_words]\n",
    "print('lemmatizing results\\n',lemmatize_words)"
   ]
  },
  {
   "cell_type": "code",
   "execution_count": 14,
   "id": "7195b3dc-9e01-4e38-b1fc-4adecbe8d09a",
   "metadata": {},
   "outputs": [
    {
     "name": "stdout",
     "output_type": "stream",
     "text": [
      "  (0, 12)\t1\n",
      "  (0, 3)\t1\n",
      "  (0, 11)\t1\n",
      "  (0, 9)\t1\n",
      "  (0, 1)\t1\n",
      "  (0, 2)\t1\n",
      "  (0, 10)\t1\n",
      "  (0, 0)\t1\n",
      "  (0, 6)\t1\n",
      "  (1, 9)\t1\n",
      "  (1, 2)\t1\n",
      "  (1, 5)\t1\n",
      "  (1, 14)\t1\n",
      "  (1, 13)\t1\n",
      "  (1, 7)\t1\n",
      "  (2, 9)\t1\n",
      "  (2, 2)\t1\n",
      "  (2, 16)\t1\n",
      "  (2, 8)\t1\n",
      "  (2, 4)\t1\n",
      "  (2, 17)\t1\n",
      "  (2, 15)\t1\n",
      "['all' 'amazing' 'and' 'battery' 'bright' 'camera' 'day' 'disappointing'\n",
      " 'display' 'is' 'lasts' 'life' 'phone' 'poor' 'quality' 'responsive' 'the'\n",
      " 'vibrant']\n",
      "[[1 1 1 1 0 0 1 0 0 1 1 1 1 0 0 0 0 0]\n",
      " [0 0 1 0 0 1 0 1 0 1 0 0 0 1 1 0 0 0]\n",
      " [0 0 1 0 1 0 0 0 1 1 0 0 0 0 0 1 1 1]]\n"
     ]
    }
   ],
   "source": [
    "from sklearn.feature_extraction.text import CountVectorizer,TfidfVectorizer\n",
    "texts = [\n",
    "    \"Phone battery life is amazing and lasts all day.\",\n",
    "    \"Camera quality is poor and disappointing.\",\n",
    "    \"The display is bright, vibrant, and responsive.\"\n",
    "]\n",
    "cv=CountVectorizer()\n",
    "bow=cv.fit_transform(texts)\n",
    "print(bow)\n",
    "print(cv.get_feature_names_out())\n",
    "print(bow.toarray())"
   ]
  },
  {
   "cell_type": "code",
   "execution_count": 15,
   "id": "841175e3-494e-47d2-abe9-4c0d2e242c70",
   "metadata": {},
   "outputs": [
    {
     "name": "stdout",
     "output_type": "stream",
     "text": [
      "  (0, 6)\t0.3604298781233275\n",
      "  (0, 0)\t0.3604298781233275\n",
      "  (0, 10)\t0.3604298781233275\n",
      "  (0, 2)\t0.21287569223847908\n",
      "  (0, 1)\t0.3604298781233275\n",
      "  (0, 9)\t0.21287569223847908\n",
      "  (0, 11)\t0.3604298781233275\n",
      "  (0, 3)\t0.3604298781233275\n",
      "  (0, 12)\t0.3604298781233275\n",
      "  (1, 7)\t0.4613807291012212\n",
      "  (1, 13)\t0.4613807291012212\n",
      "  (1, 14)\t0.4613807291012212\n",
      "  (1, 5)\t0.4613807291012212\n",
      "  (1, 2)\t0.27249889105838787\n",
      "  (1, 9)\t0.27249889105838787\n",
      "  (2, 15)\t0.4189401020758947\n",
      "  (2, 17)\t0.4189401020758947\n",
      "  (2, 4)\t0.4189401020758947\n",
      "  (2, 8)\t0.4189401020758947\n",
      "  (2, 16)\t0.4189401020758947\n",
      "  (2, 2)\t0.24743277305481848\n",
      "  (2, 9)\t0.24743277305481848\n",
      "['all' 'amazing' 'and' 'battery' 'bright' 'camera' 'day' 'disappointing'\n",
      " 'display' 'is' 'lasts' 'life' 'phone' 'poor' 'quality' 'responsive' 'the'\n",
      " 'vibrant']\n"
     ]
    }
   ],
   "source": [
    "tfidf=TfidfVectorizer()\n",
    "tfidf_matrix=tfidf.fit_transform(texts)\n",
    "print(tfidf_matrix)\n",
    "features=tfidf.get_feature_names_out()\n",
    "print(features)"
   ]
  },
  {
   "cell_type": "code",
   "execution_count": 16,
   "id": "b9d5b51c-11a1-49c4-82e4-b0fd9554b238",
   "metadata": {},
   "outputs": [
    {
     "name": "stdout",
     "output_type": "stream",
     "text": [
      "text1:Phone battery life is amazing and lasts all day.\n",
      "all:0.3604\n",
      "day:0.3604\n",
      "amazing:0.3604\n",
      "text2:Camera quality is poor and disappointing.\n",
      "quality:0.4614\n",
      "poor:0.4614\n",
      "camera:0.4614\n",
      "text3:The display is bright, vibrant, and responsive.\n",
      "vibrant:0.4189\n",
      "the:0.4189\n",
      "bright:0.4189\n"
     ]
    }
   ],
   "source": [
    "import numpy as np\n",
    "for i in range (len(texts)):\n",
    "    rows=tfidf_matrix[i].toarray()[0]\n",
    "    top=rows.argsort()[-3:][::-1]\n",
    "    keywords=[(features[idx],rows[idx]) for idx in top]\n",
    "    print(f'text{i+1}:{texts[i]}')\n",
    "    for word,score in keywords:\n",
    "        print(f'{word}:{score:.4f}')"
   ]
  },
  {
   "cell_type": "code",
   "execution_count": 17,
   "id": "541ef143-bf46-4f2c-b31e-28838782dc1b",
   "metadata": {},
   "outputs": [],
   "source": [
    "text1 = \"\"\"Artificial Intelligence enables machines to think and learn. \n",
    "It powers applications like virtual assistants and self-driving cars. \n",
    "AI can process huge datasets and make intelligent decisions quickly.\"\"\"\n",
    "\n",
    "text2 = \"\"\"Blockchain is a decentralized digital ledger technology. \n",
    "It ensures secure, transparent transactions without intermediaries. \n",
    "Blockchain is widely used in cryptocurrency and supply chain management.\"\"\"\n"
   ]
  },
  {
   "cell_type": "code",
   "execution_count": 18,
   "id": "cdd753a7-9757-4469-bf8b-a303fbdb5cf6",
   "metadata": {},
   "outputs": [
    {
     "name": "stdout",
     "output_type": "stream",
     "text": [
      "['artificial', 'intelligence', 'enables', 'machines', 'think', 'learn', 'powers', 'applications', 'like', 'virtual', 'assistants', 'selfdriving', 'cars', 'ai', 'process', 'huge', 'datasets', 'make', 'intelligent', 'decisions', 'quickly']\n",
      "['blockchain', 'decentralized', 'digital', 'ledger', 'technology', 'ensures', 'secure', 'transparent', 'transactions', 'without', 'intermediaries', 'blockchain', 'widely', 'used', 'cryptocurrency', 'supply', 'chain', 'management']\n"
     ]
    }
   ],
   "source": [
    "import re\n",
    "from nltk import sent_tokenize,word_tokenize\n",
    "from nltk.corpus import stopwords\n",
    "def preprocess(text):\n",
    "    text=text.lower()\n",
    "    text=re.sub(r'[^\\w\\s]','',text)\n",
    "    tokens=word_tokenize(text)\n",
    "    filtered=[word for word in tokens if word not in stopwords.words('english')]\n",
    "    return filtered\n",
    "token1=preprocess(text1)\n",
    "token2=preprocess(text2)\n",
    "print(token1)\n",
    "print(token2)"
   ]
  },
  {
   "cell_type": "code",
   "execution_count": 19,
   "id": "a618fe4d-93e3-4d15-9278-9269bfcf4174",
   "metadata": {},
   "outputs": [
    {
     "name": "stdout",
     "output_type": "stream",
     "text": [
      "0.0\n"
     ]
    }
   ],
   "source": [
    "def jaccard_sim(token1,token2):\n",
    "    inter=token1.intersection(token2)\n",
    "    union=token1.union(token2)\n",
    "    return len(inter)/len(union)\n",
    "jac_sim=jaccard_sim(set(token1),set(token2))\n",
    "print(jac_sim)"
   ]
  },
  {
   "cell_type": "code",
   "execution_count": 20,
   "id": "48d64aee-af5b-4b54-9be0-ea2cc1c82eb0",
   "metadata": {},
   "outputs": [
    {
     "name": "stdout",
     "output_type": "stream",
     "text": [
      "0.07364832501691351\n"
     ]
    }
   ],
   "source": [
    "from sklearn.metrics.pairwise import cosine_similarity\n",
    "from sklearn.feature_extraction.text import TfidfVectorizer\n",
    "td=TfidfVectorizer()\n",
    "tfidf_matrix=td.fit_transform([text1,text2])\n",
    "cos_sim=cosine_similarity(tfidf_matrix[0:1],tfidf_matrix[1:2])[0][0]\n",
    "print(cos_sim)"
   ]
  },
  {
   "cell_type": "code",
   "execution_count": 21,
   "id": "c20b2316-8e7f-49ed-b4a2-65beb3c757b3",
   "metadata": {},
   "outputs": [],
   "source": [
    "reviews = [\n",
    "    \"This phone has an amazing camera and great battery life!\",\n",
    "    \"The service was okay, not too bad but not great either.\",\n",
    "    \"Very disappointed with the product. It broke after two days.\"\n",
    "]"
   ]
  },
  {
   "cell_type": "code",
   "execution_count": 22,
   "id": "8a0eaa2b-56fc-45c0-a1ee-4529d3aaf13d",
   "metadata": {},
   "outputs": [
    {
     "name": "stdout",
     "output_type": "stream",
     "text": [
      "Review: This phone has an amazing camera and great battery life!\n",
      "Polarity: 0.8, Subjectivity: 0.825\n",
      "Sentiment: Positive\n",
      "Review: The service was okay, not too bad but not great either.\n",
      "Polarity: -0.19999999999999996, Subjectivity: 0.6388888888888888\n",
      "Sentiment: Negative\n",
      "Review: Very disappointed with the product. It broke after two days.\n",
      "Polarity: -0.9750000000000001, Subjectivity: 0.9750000000000001\n",
      "Sentiment: Negative\n"
     ]
    }
   ],
   "source": [
    "from textblob import TextBlob\n",
    "for review in reviews:\n",
    "    blob=TextBlob(review)\n",
    "    polarity=blob.sentiment.polarity\n",
    "    subjectivity=blob.sentiment.subjectivity\n",
    "    print(f\"Review: {review}\")\n",
    "    print(f\"Polarity: {polarity}, Subjectivity: {subjectivity}\")\n",
    "    print(\"Sentiment:\", \"Positive\" if polarity > 0 else \"Negative\" if polarity < 0 else \"Neutral\")\n",
    "positive_reviews=[review for review in reviews if TextBlob(review).sentiment.polarity>0]"
   ]
  },
  {
   "cell_type": "code",
   "execution_count": 23,
   "id": "cba9c6bd-e596-46de-bbbf-248a5309ee95",
   "metadata": {},
   "outputs": [
    {
     "name": "stdout",
     "output_type": "stream",
     "text": [
      "This phone has an amazing camera and great battery life!\n"
     ]
    },
    {
     "data": {
      "image/png": "[encoded data removed]",
      "text/plain": [
       "<Figure size 800x400 with 1 Axes>"
      ]
     },
     "metadata": {},
     "output_type": "display_data"
    }
   ],
   "source": [
    "from wordcloud import WordCloud\n",
    "import matplotlib.pyplot as plt\n",
    "text = \" \".join(positive_reviews)\n",
    "print(text)\n",
    "wordcloud = WordCloud(width=600, height=300, background_color='white').generate(text)\n",
    "plt.figure(figsize=(8, 4))\n",
    "plt.imshow(wordcloud, interpolation='bilinear')\n",
    "plt.axis('off')\n",
    "plt.title(\"Word Cloud - Positive Reviews\")\n",
    "plt.show()"
   ]
  },
  {
   "cell_type": "code",
   "execution_count": 24,
   "id": "aa56a2b4-bf64-413c-902a-ceec7e775e43",
   "metadata": {},
   "outputs": [],
   "source": [
    "paragraph = \"\"\"\n",
    "Artificial intelligence is transforming the world at an incredible pace. From smart assistants to self-driving cars, \n",
    "AI is enhancing our daily lives. With advancements in deep learning, neural networks are capable of understanding \n",
    "language, recognizing images, and even composing music. The future of AI holds endless possibilities.\n",
    "\"\"\"\n"
   ]
  },
  {
   "cell_type": "code",
   "execution_count": 51,
   "id": "d1ec0477-9889-4920-a63f-37269ba47849",
   "metadata": {},
   "outputs": [],
   "source": [
    "import numpy as np\n",
    "from tensorflow.keras.preprocessing.text import Tokenizer\n",
    "from tensorflow.keras.preprocessing.sequence import pad_sequences\n",
    "from tensorflow.keras.models import Sequential\n",
    "from tensorflow.keras.layers import Embedding, LSTM, Dense\n",
    "tokenizer = Tokenizer()\n",
    "tokenizer.fit_on_texts([paragraph])\n",
    "total_words = len(tokenizer.word_index) + 1\n",
    "input_sequences = []\n",
    "words = paragraph.lower().split()\n",
    "for i in range(1, len(words)):\n",
    "    seq = words[:i+1]\n",
    "    token_list = tokenizer.texts_to_sequences([\" \".join(seq)])[0]\n",
    "    input_sequences.append(token_list)\n",
    "max_seq_len = max([len(x) for x in input_sequences])\n",
    "input_sequences = pad_sequences(input_sequences, maxlen=max_seq_len, padding='pre')\n",
    "X = input_sequences[:, :-1]\n",
    "y = input_sequences[:, -1]\n",
    "y = np.array(y)\n"
   ]
  },
  {
   "cell_type": "code",
   "execution_count": 53,
   "id": "19903d03-e2b5-469d-af27-b20efc5f01b9",
   "metadata": {},
   "outputs": [
    {
     "name": "stderr",
     "output_type": "stream",
     "text": [
      "D:\\anacond\\Lib\\site-packages\\keras\\src\\layers\\core\\embedding.py:90: UserWarning: Argument `input_length` is deprecated. Just remove it.\n",
      "  warnings.warn(\n"
     ]
    },
    {
     "data": {
      "text/plain": [
       "<keras.src.callbacks.history.History at 0x1b413a9af30>"
      ]
     },
     "execution_count": 53,
     "metadata": {},
     "output_type": "execute_result"
    }
   ],
   "source": [
    "model = Sequential()\n",
    "model.add(Embedding(total_words, 10, input_length=max_seq_len - 1))\n",
    "model.add(LSTM(100))\n",
    "model.add(Dense(total_words, activation='softmax'))\n",
    "\n",
    "model.compile(loss='sparse_categorical_crossentropy', optimizer='adam', metrics=['accuracy'])\n",
    "model.fit(X, y, epochs=300, verbose=0)\n"
   ]
  },
  {
   "cell_type": "code",
   "execution_count": 59,
   "id": "81fc8d27-50e5-4219-a3e8-ba4e9690406a",
   "metadata": {},
   "outputs": [],
   "source": [
    "def generate_text(seed_text, next_words=10):\n",
    "    for _ in range(next_words):\n",
    "        token_list = tokenizer.texts_to_sequences([seed_text])[0]\n",
    "        token_list = pad_sequences([token_list], maxlen=max_seq_len - 1, padding='pre')\n",
    "        predicted = model.predict(token_list, verbose=0)\n",
    "        predicted_word = ''\n",
    "        for word, index in tokenizer.word_index.items():\n",
    "            if index == np.argmax(predicted):\n",
    "                predicted_word = word\n",
    "                break\n",
    "        seed_text += \" \" + predicted_word\n",
    "    return seed_text\n"
   ]
  },
  {
   "cell_type": "code",
   "execution_count": 62,
   "id": "6d0260a0-05ad-45a5-915a-3b4fbc655701",
   "metadata": {},
   "outputs": [
    {
     "name": "stdout",
     "output_type": "stream",
     "text": [
      "artificial intelligence intelligence is is transforming world at an incredible pace\n",
      "deep intelligence intelligence is is transforming world at an incredible pace\n"
     ]
    }
   ],
   "source": [
    "print(generate_text(\"artificial\", next_words=10))\n",
    "print(generate_text(\"deep\", next_words=10))"
   ]
  },
  {
   "cell_type": "code",
   "execution_count": null,
   "id": "00c78913-6c8e-439f-bb1d-382100bc7045",
   "metadata": {},
   "outputs": [],
   "source": []
  }
 ],
 "metadata": {
  "kernelspec": {
   "display_name": "Python [conda env:base] *",
   "language": "python",
   "name": "conda-base-py"
  },
  "language_info": {
   "codemirror_mode": {
    "name": "ipython",
    "version": 3
   },
   "file_extension": ".py",
   "mimetype": "text/x-python",
   "name": "python",
   "nbconvert_exporter": "python",
   "pygments_lexer": "ipython3",
   "version": "3.12.7"
  }
 },
 "nbformat": 4,
 "nbformat_minor": 5
}
