{
 "cells": [
  {
   "cell_type": "markdown",
   "id": "0b3efbaf-ed17-49a2-88c5-ee6755c7b855",
   "metadata": {},
   "source": [
    "WAP to print your name three times"
   ]
  },
  {
   "cell_type": "code",
   "execution_count": 1,
   "id": "89b30e10-2ec1-4741-9e79-7ec977fb0157",
   "metadata": {},
   "outputs": [
    {
     "name": "stdout",
     "output_type": "stream",
     "text": [
      "rohini bansal\n",
      "rohini bansal\n",
      "rohini bansal\n"
     ]
    }
   ],
   "source": [
    "for i in range(3):\n",
    "    print('rohini bansal')"
   ]
  },
  {
   "cell_type": "markdown",
   "id": "7cf121b6-dfab-4385-8161-4b46004bb8b2",
   "metadata": {},
   "source": [
    " WAP to add three numbers and print the result."
   ]
  },
  {
   "cell_type": "code",
   "execution_count": 7,
   "id": "5a9cefa1-9ed3-4ad9-a0a5-2cc5a44ae54b",
   "metadata": {},
   "outputs": [
    {
     "name": "stdout",
     "output_type": "stream",
     "text": [
      "2 + 3 + 4 = 9\n"
     ]
    }
   ],
   "source": [
    "a=2\n",
    "b=3\n",
    "c=4\n",
    "print(a,'+',b,'+',c,'=',a+b+c)"
   ]
  },
  {
   "cell_type": "markdown",
   "id": "bc9ab13c-daad-4e3a-bced-9d11365a3b85",
   "metadata": {},
   "source": [
    "WAP to concatinate three strings and print the result."
   ]
  },
  {
   "cell_type": "code",
   "execution_count": 13,
   "id": "a2cd855f-28c4-4fc3-95c4-3e4ef24c03e0",
   "metadata": {},
   "outputs": [
    {
     "name": "stdout",
     "output_type": "stream",
     "text": [
      "myself + rohini + bansal = myself rohini bansal\n"
     ]
    }
   ],
   "source": [
    "a='myself'\n",
    "b='rohini'\n",
    "c='bansal'\n",
    "print(a,'+',b,'+',c,'=',a+' '+b+' '+c)"
   ]
  },
  {
   "cell_type": "markdown",
   "id": "331c9a10-b59a-4af7-a4a6-f91b4e7c1294",
   "metadata": {},
   "source": [
    " WAP to print the table of 7, 9."
   ]
  },
  {
   "cell_type": "code",
   "execution_count": 17,
   "id": "359e0997-774b-406c-a308-b47915191457",
   "metadata": {},
   "outputs": [
    {
     "name": "stdout",
     "output_type": "stream",
     "text": [
      "7 * 1 = 7\n",
      "7 * 2 = 14\n",
      "7 * 3 = 21\n",
      "7 * 4 = 28\n",
      "7 * 5 = 35\n",
      "7 * 6 = 42\n",
      "7 * 7 = 49\n",
      "7 * 8 = 56\n",
      "7 * 9 = 63\n",
      "7 * 10 = 70\n"
     ]
    }
   ],
   "source": [
    "x=7\n",
    "for i in range(1,11):\n",
    "    print(x,'*',i,'=',x*i)"
   ]
  },
  {
   "cell_type": "code",
   "execution_count": 19,
   "id": "1c715f9d-59b0-4698-b87a-981d7d3bf850",
   "metadata": {},
   "outputs": [
    {
     "name": "stdout",
     "output_type": "stream",
     "text": [
      "9 * 1 = 9\n",
      "9 * 2 = 18\n",
      "9 * 3 = 27\n",
      "9 * 4 = 36\n",
      "9 * 5 = 45\n",
      "9 * 6 = 54\n",
      "9 * 7 = 63\n",
      "9 * 8 = 72\n",
      "9 * 9 = 81\n",
      "9 * 10 = 90\n"
     ]
    }
   ],
   "source": [
    "x=9\n",
    "for i in range(1,11):\n",
    "    print(x,'*',i,'=',x*i)"
   ]
  },
  {
   "cell_type": "code",
   "execution_count": 21,
   "id": "0c3a8c0b-7208-4975-af8e-7e86b2554b5b",
   "metadata": {},
   "outputs": [
    {
     "name": "stdin",
     "output_type": "stream",
     "text": [
      "enter a number: 6\n"
     ]
    },
    {
     "name": "stdout",
     "output_type": "stream",
     "text": [
      "6 * 1 = 6\n",
      "6 * 2 = 12\n",
      "6 * 3 = 18\n",
      "6 * 4 = 24\n",
      "6 * 5 = 30\n",
      "6 * 6 = 36\n",
      "6 * 7 = 42\n",
      "6 * 8 = 48\n",
      "6 * 9 = 54\n",
      "6 * 10 = 60\n"
     ]
    }
   ],
   "source": [
    "x=int(input('enter a number:'))\n",
    "for i in range(1,11):\n",
    "    print(x,'*',i,'=',x*i)"
   ]
  },
  {
   "cell_type": "markdown",
   "id": "f0d539f5-618c-41f1-96bc-b5ce8b80a8c9",
   "metadata": {},
   "source": [
    "WAP to add all the numbers from 1 to n and n is given by user\n"
   ]
  },
  {
   "cell_type": "code",
   "execution_count": 7,
   "id": "06c7aa74-e232-4909-a573-ef8fb1d996ee",
   "metadata": {},
   "outputs": [
    {
     "name": "stdin",
     "output_type": "stream",
     "text": [
      "Enter a number: 5\n"
     ]
    },
    {
     "name": "stdout",
     "output_type": "stream",
     "text": [
      "15\n"
     ]
    }
   ],
   "source": [
    "sum=0\n",
    "n=int(input('Enter a number:'))\n",
    "for i in range(1,n+1):\n",
    "    sum+=i\n",
    "print(sum)"
   ]
  },
  {
   "cell_type": "markdown",
   "id": "e6e62f38-aca4-46f8-8274-0abfeac2fee3",
   "metadata": {},
   "source": [
    " WAP to find max amoung three numbers and input from user. [Try max() function]\n",
    " "
   ]
  },
  {
   "cell_type": "code",
   "execution_count": 12,
   "id": "0eb676d7-0e7b-479d-8e73-d515ddd77f58",
   "metadata": {},
   "outputs": [
    {
     "name": "stdin",
     "output_type": "stream",
     "text": [
      "enter a number: 2\n",
      "enter a number: 3\n",
      "enter a number: 4\n"
     ]
    },
    {
     "name": "stdout",
     "output_type": "stream",
     "text": [
      "4 is greater\n"
     ]
    }
   ],
   "source": [
    "a=int(input('enter a number:'))\n",
    "b=int(input('enter a number:'))\n",
    "c=int(input('enter a number:'))\n",
    "if(a>max(b,c)):\n",
    "    print(a,'is greater')\n",
    "else:\n",
    "    print(max(b,c),'is greater')"
   ]
  },
  {
   "cell_type": "markdown",
   "id": "3e8e6566-a2f4-4344-baf6-79ddb215ca55",
   "metadata": {},
   "source": [
    "WAP to add all numbers divisible by 7 and 9 from 1 to n and n is given by the user.\n"
   ]
  },
  {
   "cell_type": "code",
   "execution_count": 17,
   "id": "0c5cf43a-63de-4120-ba80-2afbc85f3619",
   "metadata": {},
   "outputs": [
    {
     "name": "stdin",
     "output_type": "stream",
     "text": [
      "enter a number: 127\n"
     ]
    },
    {
     "name": "stdout",
     "output_type": "stream",
     "text": [
      "189\n"
     ]
    }
   ],
   "source": [
    "sum=0\n",
    "a=int(input('enter a number:'))\n",
    "for i in range(1,a):\n",
    "    if(i%63==0):\n",
    "       sum+=i\n",
    "print(sum)"
   ]
  },
  {
   "cell_type": "markdown",
   "id": "2abd1330-f4e6-47f7-b22f-eb693e456755",
   "metadata": {},
   "source": [
    "WAP to add all prime numbers from 1 to n and n is given by the user."
   ]
  },
  {
   "cell_type": "code",
   "execution_count": 37,
   "id": "b244f25d-439a-4760-b12c-234cd318d2be",
   "metadata": {},
   "outputs": [
    {
     "name": "stdin",
     "output_type": "stream",
     "text": [
      "Enter a number: 10\n"
     ]
    },
    {
     "name": "stdout",
     "output_type": "stream",
     "text": [
      "17\n"
     ]
    }
   ],
   "source": [
    "sum=0\n",
    "n=int(input('Enter a number:'))\n",
    "for i in range(2,n+1):\n",
    "    is_prime=True\n",
    "    for j in range(2,int(i**0.5)+1):\n",
    "        if(i%j==0):\n",
    "            is_prime=False\n",
    "            break\n",
    "    if(is_prime==True):\n",
    "        sum+=i\n",
    "print(sum)"
   ]
  },
  {
   "cell_type": "markdown",
   "id": "dd5b7902-b0e7-48e6-8444-821ae2abef39",
   "metadata": {},
   "source": [
    "WAP using function that add all odd numbers from 1 to n, n is given by the user."
   ]
  },
  {
   "cell_type": "code",
   "execution_count": 40,
   "id": "d4df75a6-4ec6-47f1-bb02-89d7d6a079ed",
   "metadata": {},
   "outputs": [
    {
     "name": "stdin",
     "output_type": "stream",
     "text": [
      "enter a number: 10\n"
     ]
    },
    {
     "name": "stdout",
     "output_type": "stream",
     "text": [
      "sum of odd numbers from 1 to 10 is 25\n"
     ]
    }
   ],
   "source": [
    "def odd_sum(n):\n",
    "    sum=0\n",
    "    for i in range(1,n+1):\n",
    "        if(i%2!=0):\n",
    "            sum+=i\n",
    "    return sum\n",
    "n=int(input('enter a number:'))\n",
    "print('sum of odd numbers from 1 to',n,'is',odd_sum(n))"
   ]
  },
  {
   "cell_type": "markdown",
   "id": "9643fd84-2cf0-485e-b431-02950101ad32",
   "metadata": {},
   "source": [
    "WAP using function that add all prime numbers from 1 to n, n given by the user."
   ]
  },
  {
   "cell_type": "code",
   "execution_count": 43,
   "id": "4811944e-473c-410b-bed0-4c4dc98c2dc7",
   "metadata": {},
   "outputs": [
    {
     "name": "stdin",
     "output_type": "stream",
     "text": [
      "Enter a number: 10\n"
     ]
    },
    {
     "name": "stdout",
     "output_type": "stream",
     "text": [
      "17\n"
     ]
    }
   ],
   "source": [
    "def prime_sum(n):\n",
    "    sum=0\n",
    "    for i in range(2,n+1):\n",
    "        is_prime=True\n",
    "        for j in range(2,int(i**0.5)+1):\n",
    "            if(i%j==0):\n",
    "                is_prime=False\n",
    "                break\n",
    "        if(is_prime==True):\n",
    "            sum+=i\n",
    "    print(sum)\n",
    "n=int(input('Enter a number:'))   \n",
    "prime_sum(n)"
   ]
  },
  {
   "cell_type": "code",
   "execution_count": null,
   "id": "7ba09370-d92a-4c75-9907-2789e72648f5",
   "metadata": {},
   "outputs": [],
   "source": []
  }
 ],
 "metadata": {
  "kernelspec": {
   "display_name": "Python [conda env:base] *",
   "language": "python",
   "name": "conda-base-py"
  },
  "language_info": {
   "codemirror_mode": {
    "name": "ipython",
    "version": 3
   },
   "file_extension": ".py",
   "mimetype": "text/x-python",
   "name": "python",
   "nbconvert_exporter": "python",
   "pygments_lexer": "ipython3",
   "version": "3.12.7"
  }
 },
 "nbformat": 4,
 "nbformat_minor": 5
}
