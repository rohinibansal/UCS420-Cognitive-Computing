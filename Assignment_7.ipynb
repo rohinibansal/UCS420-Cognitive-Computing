{
  "nbformat": 4,
  "nbformat_minor": 0,
  "metadata": {
    "colab": {
      "provenance": []
    },
    "kernelspec": {
      "name": "python3",
      "display_name": "Python 3"
    },
    "language_info": {
      "name": "python"
    }
  },
  "cells": [
    {
      "cell_type": "markdown",
      "source": [
        "\n",
        "\n",
        "1.   Initialize Random Seed\n",
        "2.   Generate Sales Data\n",
        " Create a NumPy array of random sales data for 12 months (shape = (12, 4)),\n",
        "where each column represents a product category:\n",
        " Electronics, Clothing, Home & Kitchen, Sports.\n",
        " Sales values should be between 1000 and 5000 units per month.\n",
        "The range should be randomized using the seed.\n",
        "3. Convert to DataFrame\n",
        " Convert the cleaned NumPy array into a Pandas DataFrame with:\n",
        "i. Columns: Electronics, Clothing, Home & Kitchen, Sports\n",
        "ii. Index: Months from Jan to Dec\n",
        "\n",
        "\n",
        "\n",
        "\n",
        "\n",
        "\n"
      ],
      "metadata": {
        "id": "cAPS3rpKRTMl"
      }
    },
    {
      "cell_type": "code",
      "execution_count": 38,
      "metadata": {
        "colab": {
          "base_uri": "https://localhost:8080/"
        },
        "id": "z3AHLL4CGkCX",
        "outputId": "ff629e0d-db2b-4792-c92e-81d1cfb501b8"
      },
      "outputs": [
        {
          "output_type": "stream",
          "name": "stdout",
          "text": [
            "enter roll number:5\n",
            "[[3915 3254 2725 4046]\n",
            " [4190 2424 3121 2032]\n",
            " [1740 4815 2982 3459]\n",
            " [3672 3718 4792 4591]\n",
            " [1204 4983 4185 2461]\n",
            " [4152 3075 2068 1205]\n",
            " [4787 4137 4503 4614]\n",
            " [3004 4158 4709 3194]\n",
            " [2278 1377 4721 2386]\n",
            " [1041 2470 2921 3258]\n",
            " [1103 4216 1974 3053]\n",
            " [4898 3816 3000 1900]]\n",
            "       Electronics  Clothing  Home & Kitchen  Sports\n",
            "Jan           3915      3254            2725    4046\n",
            "Feb           4190      2424            3121    2032\n",
            "March         1740      4815            2982    3459\n",
            "April         3672      3718            4792    4591\n",
            "May           1204      4983            4185    2461\n",
            "June          4152      3075            2068    1205\n",
            "July          4787      4137            4503    4614\n",
            "Aug           3004      4158            4709    3194\n",
            "Sep           2278      1377            4721    2386\n",
            "Oct           1041      2470            2921    3258\n",
            "Nov           1103      4216            1974    3053\n",
            "Dec           4898      3816            3000    1900\n"
          ]
        }
      ],
      "source": [
        "import numpy as np\n",
        "import pandas as pd\n",
        "import matplotlib.pyplot as plt\n",
        "import seaborn as sns\n",
        "x=int(input('enter roll number:'))\n",
        "np.random.seed(x)\n",
        "data=np.random.randint(1000,5001,size=(12,4))\n",
        "print(data)\n",
        "df=pd.DataFrame(data.reshape(12,4))\n",
        "df.columns=['Electronics', 'Clothing', 'Home & Kitchen', 'Sports']\n",
        "df.index=['Jan','Feb','March','April','May','June','July','Aug','Sep','Oct','Nov','Dec']\n",
        "print(df)"
      ]
    },
    {
      "cell_type": "markdown",
      "source": [
        "Display the first 5 rows and summary statistics of the DataFrame.\n"
      ],
      "metadata": {
        "id": "_YGSFNaISF-2"
      }
    },
    {
      "cell_type": "code",
      "source": [
        "print(df.head())"
      ],
      "metadata": {
        "colab": {
          "base_uri": "https://localhost:8080/"
        },
        "id": "thmjfysYGmzr",
        "outputId": "cdae6feb-327c-4727-de58-320f9768ad29"
      },
      "execution_count": 39,
      "outputs": [
        {
          "output_type": "stream",
          "name": "stdout",
          "text": [
            "       Electronics  Clothing  Home & Kitchen  Sports\n",
            "Jan           3915      3254            2725    4046\n",
            "Feb           4190      2424            3121    2032\n",
            "March         1740      4815            2982    3459\n",
            "April         3672      3718            4792    4591\n",
            "May           1204      4983            4185    2461\n"
          ]
        }
      ]
    },
    {
      "cell_type": "code",
      "source": [
        "print(df.describe())"
      ],
      "metadata": {
        "colab": {
          "base_uri": "https://localhost:8080/"
        },
        "id": "pkoxjOg_Gunx",
        "outputId": "cdc04f0b-28a0-4732-d8b7-e4ea1a108c1d"
      },
      "execution_count": 40,
      "outputs": [
        {
          "output_type": "stream",
          "name": "stdout",
          "text": [
            "       Electronics     Clothing  Home & Kitchen       Sports\n",
            "count    12.000000    12.000000       12.000000    12.000000\n",
            "mean   2998.666667  3536.916667     3475.083333  3016.583333\n",
            "std    1464.692666  1060.783369     1047.364698  1069.466686\n",
            "min    1041.000000  1377.000000     1974.000000  1205.000000\n",
            "25%    1606.000000  2923.750000     2872.000000  2297.500000\n",
            "50%    3338.000000  3767.000000     3060.500000  3123.500000\n",
            "75%    4161.500000  4172.500000     4554.500000  3605.750000\n",
            "max    4898.000000  4983.000000     4792.000000  4614.000000\n"
          ]
        }
      ]
    },
    {
      "cell_type": "markdown",
      "source": [
        "Calculate the total sales per category and total sales per month."
      ],
      "metadata": {
        "id": "_bBQnCUeSQK0"
      }
    },
    {
      "cell_type": "code",
      "source": [
        "row_sum=df.sum(axis=1)\n",
        "print(row_sum)"
      ],
      "metadata": {
        "colab": {
          "base_uri": "https://localhost:8080/"
        },
        "id": "s8I6uV4YGzbj",
        "outputId": "834f2ff6-38c3-4089-9dbe-3056945c9f88"
      },
      "execution_count": 41,
      "outputs": [
        {
          "output_type": "stream",
          "name": "stdout",
          "text": [
            "Jan      13940\n",
            "Feb      11767\n",
            "March    12996\n",
            "April    16773\n",
            "May      12833\n",
            "June     10500\n",
            "July     18041\n",
            "Aug      15065\n",
            "Sep      10762\n",
            "Oct       9690\n",
            "Nov      10346\n",
            "Dec      13614\n",
            "dtype: int64\n"
          ]
        }
      ]
    },
    {
      "cell_type": "code",
      "source": [
        "col_sum=df.sum(axis=0)\n",
        "print(col_sum)"
      ],
      "metadata": {
        "colab": {
          "base_uri": "https://localhost:8080/"
        },
        "id": "06P6aSCvHBjX",
        "outputId": "f5575c2f-2a75-4b3f-8678-0771797fcdfd"
      },
      "execution_count": 25,
      "outputs": [
        {
          "output_type": "stream",
          "name": "stdout",
          "text": [
            "month_number      JanFebMarchAprilMayJuneJulyAugSepOctNovDec\n",
            "Electronics                                            35984\n",
            "Clothing                                               42443\n",
            "Home & Kitchen                                         41701\n",
            "Sports                                                 36199\n",
            "dtype: object\n"
          ]
        }
      ]
    },
    {
      "cell_type": "markdown",
      "source": [
        "Calculate the average sales growth between consecuƟve months for each category."
      ],
      "metadata": {
        "id": "Ee7okmJOSToM"
      }
    },
    {
      "cell_type": "code",
      "source": [
        "growth=df.diff()\n",
        "print(growth)\n",
        "avg=growth.mean()\n",
        "print(avg)"
      ],
      "metadata": {
        "colab": {
          "base_uri": "https://localhost:8080/"
        },
        "id": "iT1Y0L0kHKwS",
        "outputId": "7cc6bb7c-26c7-4ade-b895-33c10791171c"
      },
      "execution_count": 43,
      "outputs": [
        {
          "output_type": "stream",
          "name": "stdout",
          "text": [
            "       Electronics  Clothing  Home & Kitchen  Sports\n",
            "Jan            NaN       NaN             NaN     NaN\n",
            "Feb          275.0    -830.0           396.0 -2014.0\n",
            "March      -2450.0    2391.0          -139.0  1427.0\n",
            "April       1932.0   -1097.0          1810.0  1132.0\n",
            "May        -2468.0    1265.0          -607.0 -2130.0\n",
            "June        2948.0   -1908.0         -2117.0 -1256.0\n",
            "July         635.0    1062.0          2435.0  3409.0\n",
            "Aug        -1783.0      21.0           206.0 -1420.0\n",
            "Sep         -726.0   -2781.0            12.0  -808.0\n",
            "Oct        -1237.0    1093.0         -1800.0   872.0\n",
            "Nov           62.0    1746.0          -947.0  -205.0\n",
            "Dec         3795.0    -400.0          1026.0 -1153.0\n",
            "Electronics        89.363636\n",
            "Clothing           51.090909\n",
            "Home & Kitchen     25.000000\n",
            "Sports           -195.090909\n",
            "dtype: float64\n"
          ]
        }
      ]
    },
    {
      "cell_type": "markdown",
      "source": [
        "Add the following columns to the DataFrame:\n",
        " Total Sales: Sum of all categories per month.\n",
        " Growth Rate: Percentage change in Total Sales from the previous month."
      ],
      "metadata": {
        "id": "G0QiUTQUSWiV"
      }
    },
    {
      "cell_type": "code",
      "source": [
        "df['total sales']=row_sum\n",
        "df['growth rate']=df['total sales'].pct_change()*100"
      ],
      "metadata": {
        "colab": {
          "base_uri": "https://localhost:8080/"
        },
        "id": "S04A-XvnHtH9",
        "outputId": "8192e222-b949-4ab0-993e-fa0f951150f6"
      },
      "execution_count": 34,
      "outputs": [
        {
          "output_type": "stream",
          "name": "stderr",
          "text": [
            "<ipython-input-34-9fa818dc9bcc>:2: FutureWarning: The default fill_method='pad' in Series.pct_change is deprecated and will be removed in a future version. Either fill in any non-leading NA values prior to calling pct_change or specify 'fill_method=None' to not fill NA values.\n",
            "  df['growth rate']=df['total sales'].pct_change()*100\n"
          ]
        }
      ]
    },
    {
      "cell_type": "code",
      "source": [
        "print(df)"
      ],
      "metadata": {
        "colab": {
          "base_uri": "https://localhost:8080/"
        },
        "id": "fKTYmedPH-m8",
        "outputId": "40c37921-28cb-4b2b-f5a9-d9368a6d31c7"
      },
      "execution_count": 30,
      "outputs": [
        {
          "output_type": "stream",
          "name": "stdout",
          "text": [
            "   month_number  Electronics  Clothing  Home & Kitchen  Sports  total sales  \\\n",
            "0           Jan         3915   2765.90            2725    4046          NaN   \n",
            "1           Feb         4190   2060.40            3121    2032          NaN   \n",
            "2         March         1740   4092.75            2982    3459          NaN   \n",
            "3         April         3672   3160.30            4792    4591          NaN   \n",
            "4           May         1204   4235.55            4185    2461          NaN   \n",
            "5          June         4152   2613.75            2068    1205          NaN   \n",
            "6          July         4787   3516.45            4503    4614          NaN   \n",
            "7           Aug         3004   3534.30            4709    3194          NaN   \n",
            "8           Sep         2278   1170.45            4721    2386          NaN   \n",
            "9           Oct         1041   2099.50            2921    3258          NaN   \n",
            "10          Nov         1103   3583.60            1974    3053          NaN   \n",
            "11          Dec         4898   3243.60            3000    1900          NaN   \n",
            "\n",
            "    growth rate  \n",
            "0           NaN  \n",
            "1           NaN  \n",
            "2           NaN  \n",
            "3           NaN  \n",
            "4           NaN  \n",
            "5           NaN  \n",
            "6           NaN  \n",
            "7           NaN  \n",
            "8           NaN  \n",
            "9           NaN  \n",
            "10          NaN  \n",
            "11          NaN  \n"
          ]
        }
      ]
    },
    {
      "cell_type": "markdown",
      "source": [
        "Apply a randomized discount:\n",
        " If your roll number is even, apply a 10% discount to the Electronics category.\n",
        "\n",
        " If odd, apply a 15% discount to the Clothing category."
      ],
      "metadata": {
        "id": "kTmZFuZtSbck"
      }
    },
    {
      "cell_type": "code",
      "source": [
        "if (x%2==0):\n",
        "    df['Electronics']=0.90*df['Electronics']\n",
        "else:\n",
        "    df['Clothing']=0.85*df['Clothing']\n",
        "print(df)"
      ],
      "metadata": {
        "colab": {
          "base_uri": "https://localhost:8080/"
        },
        "id": "7__RZvE9IS53",
        "outputId": "d93f5cb8-a5cf-476c-dcfc-a8093ef56922"
      },
      "execution_count": 28,
      "outputs": [
        {
          "output_type": "stream",
          "name": "stdout",
          "text": [
            "   month_number  Electronics  Clothing  Home & Kitchen  Sports\n",
            "0           Jan         3915   2765.90            2725    4046\n",
            "1           Feb         4190   2060.40            3121    2032\n",
            "2         March         1740   4092.75            2982    3459\n",
            "3         April         3672   3160.30            4792    4591\n",
            "4           May         1204   4235.55            4185    2461\n",
            "5          June         4152   2613.75            2068    1205\n",
            "6          July         4787   3516.45            4503    4614\n",
            "7           Aug         3004   3534.30            4709    3194\n",
            "8           Sep         2278   1170.45            4721    2386\n",
            "9           Oct         1041   2099.50            2921    3258\n",
            "10          Nov         1103   3583.60            1974    3053\n",
            "11          Dec         4898   3243.60            3000    1900\n"
          ]
        }
      ]
    },
    {
      "cell_type": "markdown",
      "source": [
        "Plot monthly sales trends for each category using line plots.\n",
        "2. Create the following plots:\n",
        " Box plots to show the sales distribuƟon for each category."
      ],
      "metadata": {
        "id": "2e6G1qfySeiA"
      }
    },
    {
      "cell_type": "code",
      "source": [
        "df = df.reset_index().rename(columns={'index': 'month_number'})\n",
        "sales=df.melt('month_number',['Electronics','Clothing', 'Home & Kitchen', 'Sports'],'expenses','type')\n",
        "sns.lineplot(x='month_number',hue='expenses',data=sales,y='type')"
      ],
      "metadata": {
        "colab": {
          "base_uri": "https://localhost:8080/",
          "height": 467
        },
        "id": "dsxHvKPMIc1o",
        "outputId": "6e4bf89f-1ca1-4a9e-b055-45ca5284411c"
      },
      "execution_count": 44,
      "outputs": [
        {
          "output_type": "execute_result",
          "data": {
            "text/plain": [
              "<Axes: xlabel='month_number', ylabel='type'>"
            ]
          },
          "metadata": {},
          "execution_count": 44
        },
        {
          "output_type": "display_data",
          "data": {
            "text/plain": [
              "<Figure size 640x480 with 1 Axes>"
            ],
            "image/png": "[encoded data removed]"
          },
          "metadata": {}
        }
      ]
    },
    {
      "cell_type": "code",
      "source": [
        "sales_melted = df.reset_index().melt(\n",
        "    id_vars='index',  # Keep month names\n",
        "    value_vars=['Electronics', 'Clothing', 'Home & Kitchen', 'Sports'],\n",
        "    var_name='Category',\n",
        "    value_name='Sales'\n",
        ")\n",
        "\n",
        "# Create box plots\n",
        "plt.figure(figsize=(10, 6))\n",
        "sns.boxplot(\n",
        "    x='Category',  # This should now be string categories\n",
        "    y='Sales',     # Numeric sales values\n",
        "    data=sales_melted,\n",
        "    palette='pastel'\n",
        ")\n",
        "\n",
        "# Add titles and labels\n",
        "plt.title('Sales Distribution by Category', fontsize=14)\n",
        "plt.xlabel('Category', fontsize=12)\n",
        "plt.ylabel('Sales ($)', fontsize=12)\n",
        "plt.show()\n"
      ],
      "metadata": {
        "colab": {
          "base_uri": "https://localhost:8080/",
          "height": 536
        },
        "id": "LRzhCOPtJSg5",
        "outputId": "c432e21c-bb64-4727-ac3d-79edbbf6e605"
      },
      "execution_count": 47,
      "outputs": [
        {
          "output_type": "stream",
          "name": "stderr",
          "text": [
            "<ipython-input-47-2dee0a2b4b50>:10: FutureWarning: \n",
            "\n",
            "Passing `palette` without assigning `hue` is deprecated and will be removed in v0.14.0. Assign the `x` variable to `hue` and set `legend=False` for the same effect.\n",
            "\n",
            "  sns.boxplot(\n"
          ]
        },
        {
          "output_type": "display_data",
          "data": {
            "text/plain": [
              "<Figure size 1000x600 with 1 Axes>"
            ],
            "image/png": "[encoded data removed]"
          },
          "metadata": {}
        }
      ]
    },
    {
      "cell_type": "markdown",
      "source": [
        "Q.2 For the array: array = np.array([[1, -2, 3],[-4, 5, -6]])\n",
        "i. Find element-wise absolute value"
      ],
      "metadata": {
        "id": "g8_Ai4v6SkfP"
      }
    },
    {
      "cell_type": "code",
      "source": [
        "array=np.array([[1,-2,3],[-4,5,6]])\n",
        "x=np.absolute(array)\n",
        "print(x)"
      ],
      "metadata": {
        "colab": {
          "base_uri": "https://localhost:8080/"
        },
        "id": "CN0aQ4MGJ1KS",
        "outputId": "8cecfdb5-8c5f-4888-ae89-bbaf35bc3728"
      },
      "execution_count": 52,
      "outputs": [
        {
          "output_type": "stream",
          "name": "stdout",
          "text": [
            "[[1 2 3]\n",
            " [4 5 6]]\n"
          ]
        }
      ]
    },
    {
      "cell_type": "markdown",
      "source": [
        "ii. Find the 25th, 50th, and 75th percenƟle of flaƩened array, for each column, for each\n",
        "row."
      ],
      "metadata": {
        "id": "S6qSHAJaSmCq"
      }
    },
    {
      "cell_type": "code",
      "source": [
        "flatten_percentile=np.percentile(array.flatten(),[25,50,75])\n",
        "print(flatten_percentile)"
      ],
      "metadata": {
        "colab": {
          "base_uri": "https://localhost:8080/"
        },
        "id": "Pg-9D-7VNEx9",
        "outputId": "b7fdaec1-0346-49ec-d754-5091a9770347"
      },
      "execution_count": 57,
      "outputs": [
        {
          "output_type": "stream",
          "name": "stdout",
          "text": [
            "[-1.25  2.    4.5 ]\n"
          ]
        }
      ]
    },
    {
      "cell_type": "code",
      "source": [
        "col_percentile=np.percentile(array,[25,50,75],axis=0)\n",
        "print(col_percentile)"
      ],
      "metadata": {
        "colab": {
          "base_uri": "https://localhost:8080/"
        },
        "id": "SNjRBPexNNnQ",
        "outputId": "c46f339b-ac54-4664-a016-6612854b870b"
      },
      "execution_count": 58,
      "outputs": [
        {
          "output_type": "stream",
          "name": "stdout",
          "text": [
            "[[-2.75 -0.25  3.75]\n",
            " [-1.5   1.5   4.5 ]\n",
            " [-0.25  3.25  5.25]]\n"
          ]
        }
      ]
    },
    {
      "cell_type": "code",
      "source": [
        "row_percentiles = np.percentile(array, [25, 50, 75], axis=1)\n",
        "print(\"\\nRow-wise percentiles:\\n\", row_percentiles)"
      ],
      "metadata": {
        "colab": {
          "base_uri": "https://localhost:8080/"
        },
        "id": "WBBGZX4eNSkm",
        "outputId": "07b42972-0e49-43b4-e547-a0a51b141896"
      },
      "execution_count": 59,
      "outputs": [
        {
          "output_type": "stream",
          "name": "stdout",
          "text": [
            "\n",
            "Row-wise percentiles:\n",
            " [[-0.5  0.5]\n",
            " [ 1.   5. ]\n",
            " [ 2.   5.5]]\n"
          ]
        }
      ]
    },
    {
      "cell_type": "markdown",
      "source": [
        "iii. Mean, Median and Standard DeviaƟon of flaƩened array, of each column, and\n",
        "each row"
      ],
      "metadata": {
        "id": "YNLijosESthh"
      }
    },
    {
      "cell_type": "code",
      "source": [
        "mean=np.mean(array.flatten())\n",
        "print(mean)"
      ],
      "metadata": {
        "colab": {
          "base_uri": "https://localhost:8080/"
        },
        "id": "-GGbo4QeNsn3",
        "outputId": "6d4d0ea1-22b9-4275-c847-8268738f761a"
      },
      "execution_count": 60,
      "outputs": [
        {
          "output_type": "stream",
          "name": "stdout",
          "text": [
            "1.5\n"
          ]
        }
      ]
    },
    {
      "cell_type": "code",
      "source": [
        "row_mean=np.mean(array,axis=1)\n",
        "print(row_mean)"
      ],
      "metadata": {
        "colab": {
          "base_uri": "https://localhost:8080/"
        },
        "id": "qj5wJ-OJNsXu",
        "outputId": "1deca11e-1801-4d8c-8df9-5e92fc03d852"
      },
      "execution_count": 61,
      "outputs": [
        {
          "output_type": "stream",
          "name": "stdout",
          "text": [
            "[0.66666667 2.33333333]\n"
          ]
        }
      ]
    },
    {
      "cell_type": "code",
      "source": [
        "col_mean=np.mean(array,axis=0)\n",
        "print(col_mean)"
      ],
      "metadata": {
        "colab": {
          "base_uri": "https://localhost:8080/"
        },
        "id": "fMxO0Jm_PGJl",
        "outputId": "695e09e6-d261-4554-9538-83c6d403e891"
      },
      "execution_count": 62,
      "outputs": [
        {
          "output_type": "stream",
          "name": "stdout",
          "text": [
            "[-1.5  1.5  4.5]\n"
          ]
        }
      ]
    },
    {
      "cell_type": "code",
      "source": [
        "row_median=np.median(array,axis=1)\n",
        "print(row_median)"
      ],
      "metadata": {
        "colab": {
          "base_uri": "https://localhost:8080/"
        },
        "id": "U-LwxOJGPKED",
        "outputId": "b208e0cd-c001-4576-a594-97e553b5f0a8"
      },
      "execution_count": 63,
      "outputs": [
        {
          "output_type": "stream",
          "name": "stdout",
          "text": [
            "[1. 5.]\n"
          ]
        }
      ]
    },
    {
      "cell_type": "code",
      "source": [
        "col_median=np.median(array,axis=0)\n",
        "print(col_median)"
      ],
      "metadata": {
        "colab": {
          "base_uri": "https://localhost:8080/"
        },
        "id": "DTLuJlNYPJ4n",
        "outputId": "023238a0-1a2b-4bcb-ee5e-25e4a9db3dfb"
      },
      "execution_count": 64,
      "outputs": [
        {
          "output_type": "stream",
          "name": "stdout",
          "text": [
            "[-1.5  1.5  4.5]\n"
          ]
        }
      ]
    },
    {
      "cell_type": "code",
      "source": [
        "row_sd=np.std(array,axis=1)\n",
        "print(row_sd)"
      ],
      "metadata": {
        "colab": {
          "base_uri": "https://localhost:8080/"
        },
        "id": "9qmfxUtOPJwv",
        "outputId": "5106091d-774a-485c-8938-ac2a9e7239fa"
      },
      "execution_count": 65,
      "outputs": [
        {
          "output_type": "stream",
          "name": "stdout",
          "text": [
            "[2.05480467 4.49691252]\n"
          ]
        }
      ]
    },
    {
      "cell_type": "code",
      "source": [
        "col_sd=np.std(array,axis=0)\n",
        "print(col_sd)"
      ],
      "metadata": {
        "colab": {
          "base_uri": "https://localhost:8080/"
        },
        "id": "rHnXgXS9PWkJ",
        "outputId": "629843a3-7c1e-4c5a-d554-7c626f971a44"
      },
      "execution_count": 66,
      "outputs": [
        {
          "output_type": "stream",
          "name": "stdout",
          "text": [
            "[2.5 3.5 1.5]\n"
          ]
        }
      ]
    },
    {
      "cell_type": "code",
      "source": [
        "sd=np.std(array.flatten())\n",
        "print(sd)"
      ],
      "metadata": {
        "colab": {
          "base_uri": "https://localhost:8080/"
        },
        "id": "vvp7bOjYPZLo",
        "outputId": "f9f3a6d3-d919-4cc5-d31d-e76e5bfa9495"
      },
      "execution_count": 67,
      "outputs": [
        {
          "output_type": "stream",
          "name": "stdout",
          "text": [
            "3.593976442141304\n"
          ]
        }
      ]
    },
    {
      "cell_type": "code",
      "source": [
        "median=np.median(array.flatten())\n",
        "print(median)"
      ],
      "metadata": {
        "colab": {
          "base_uri": "https://localhost:8080/"
        },
        "id": "pviYH5w7PdHt",
        "outputId": "5ae60168-5d5c-477a-f39a-edefeea59907"
      },
      "execution_count": 68,
      "outputs": [
        {
          "output_type": "stream",
          "name": "stdout",
          "text": [
            "2.0\n"
          ]
        }
      ]
    },
    {
      "cell_type": "markdown",
      "source": [
        "Q.3 For the array: a = np.array([-1.8, -1.6, -0.5, 0.5,1.6, 1.8, 3.0]).\n",
        "i. Find floor, ceiling and truncated value, rounded values"
      ],
      "metadata": {
        "id": "NNLmJ_kFSyEq"
      }
    },
    {
      "cell_type": "code",
      "source": [
        "a=np.array([-1.8,-1.6,-0.5,0.5,1.6,1.8,3.0])\n",
        "print(np.floor(a))\n",
        "print(np.ceil(a))\n",
        "print(np.round(a))\n",
        "print(np.trunc(a))"
      ],
      "metadata": {
        "colab": {
          "base_uri": "https://localhost:8080/"
        },
        "id": "akZ4pdV5NXw1",
        "outputId": "3a151d93-f84b-425f-9b40-288f55917cba"
      },
      "execution_count": 72,
      "outputs": [
        {
          "output_type": "stream",
          "name": "stdout",
          "text": [
            "[-2. -2. -1.  0.  1.  1.  3.]\n",
            "[-1. -1. -0.  1.  2.  2.  3.]\n",
            "[-2. -2. -0.  0.  2.  2.  3.]\n",
            "[-1. -1. -0.  0.  1.  1.  3.]\n"
          ]
        }
      ]
    },
    {
      "cell_type": "markdown",
      "source": [
        "WAP to swap two elements in a list in Python Using a Temporary Variable."
      ],
      "metadata": {
        "id": "Rf1-J0VWS0pc"
      }
    },
    {
      "cell_type": "code",
      "source": [
        "l=[1,2,3,4,5]\n",
        "print(l)\n",
        "temp=l[1]\n",
        "l[1]=l[2]\n",
        "l[2]=temp\n",
        "print(l)"
      ],
      "metadata": {
        "colab": {
          "base_uri": "https://localhost:8080/"
        },
        "id": "0IHtlDDfPmNV",
        "outputId": "877cd3f3-2309-468a-c48d-8517c6f8f817"
      },
      "execution_count": 73,
      "outputs": [
        {
          "output_type": "stream",
          "name": "stdout",
          "text": [
            "[1, 2, 3, 4, 5]\n",
            "[1, 3, 2, 4, 5]\n"
          ]
        }
      ]
    },
    {
      "cell_type": "markdown",
      "source": [
        "Write a Python program to swap two elements in a set by converƟng it to a list first."
      ],
      "metadata": {
        "id": "_ZI9FdX4S2wy"
      }
    },
    {
      "cell_type": "code",
      "source": [
        "my_set={1,2,3,4,5}\n",
        "print(my_set)\n",
        "print(type(my_set))\n",
        "l=list(my_set)\n",
        "print(l)\n",
        "print(type(l))\n",
        "temp=l[1]\n",
        "l[1]=l[2]\n",
        "l[2]=temp\n",
        "print(l)"
      ],
      "metadata": {
        "colab": {
          "base_uri": "https://localhost:8080/"
        },
        "id": "Cep1BZ2mP8sh",
        "outputId": "b7958d44-65c7-4a10-ae3a-f2289432842c"
      },
      "execution_count": 84,
      "outputs": [
        {
          "output_type": "stream",
          "name": "stdout",
          "text": [
            "{1, 2, 3, 4, 5}\n",
            "<class 'set'>\n",
            "[1, 2, 3, 4, 5]\n",
            "<class 'list'>\n",
            "[1, 3, 2, 4, 5]\n"
          ]
        }
      ]
    },
    {
      "cell_type": "code",
      "source": [],
      "metadata": {
        "id": "rxeiRLfTQBht"
      },
      "execution_count": null,
      "outputs": []
    }
  ]
}