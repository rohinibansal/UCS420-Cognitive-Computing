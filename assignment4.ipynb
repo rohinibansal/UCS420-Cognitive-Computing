{
 "cells": [
  {
   "cell_type": "code",
   "execution_count": 13,
   "id": "c11c3132-3fb2-4328-b2e8-6fe5dee967c9",
   "metadata": {},
   "outputs": [
    {
     "name": "stdout",
     "output_type": "stream",
     "text": [
      "[3 4 5 6 7]\n",
      "[ 3  6  9 12 15]\n",
      "[0.5 1.  1.5 2.  2.5]\n"
     ]
    }
   ],
   "source": [
    "import numpy as np\n",
    "a=np.array([1,2,3,4,5])\n",
    "print(a+2)"
   ]
  },
  {
   "cell_type": "code",
   "execution_count": 15,
   "id": "c21361f8-21ab-4cb3-8748-fcd44d1b168b",
   "metadata": {},
   "outputs": [
    {
     "name": "stdout",
     "output_type": "stream",
     "text": [
      "[ 3  6  9 12 15]\n"
     ]
    }
   ],
   "source": [
    "print(a*3)"
   ]
  },
  {
   "cell_type": "code",
   "execution_count": 17,
   "id": "29ba533f-c709-4275-a3a0-67a0962c603a",
   "metadata": {},
   "outputs": [
    {
     "name": "stdout",
     "output_type": "stream",
     "text": [
      "[0.5 1.  1.5 2.  2.5]\n"
     ]
    }
   ],
   "source": [
    "print(a/2)"
   ]
  },
  {
   "cell_type": "code",
   "execution_count": 41,
   "id": "acb32289-93e5-4505-8a40-f1bd33253d93",
   "metadata": {},
   "outputs": [
    {
     "name": "stdout",
     "output_type": "stream",
     "text": [
      "<class 'numpy.ndarray'>\n"
     ]
    }
   ],
   "source": [
    "b=np.array([1,2,3,6,4,5])\n",
    "r_array=b[::-1]\n",
    "print(type(r_array))"
   ]
  },
  {
   "cell_type": "code",
   "execution_count": 43,
   "id": "272a2b69-d97b-46aa-9f25-dd695172cec0",
   "metadata": {},
   "outputs": [
    {
     "data": {
      "text/plain": [
       "array([5, 4, 6, 3, 2, 1])"
      ]
     },
     "execution_count": 43,
     "metadata": {},
     "output_type": "execute_result"
    }
   ],
   "source": [
    "r_array=np.flip(b)\n",
    "r_array"
   ]
  },
  {
   "cell_type": "code",
   "execution_count": 47,
   "id": "721b9a8c-a035-41fb-9631-031cb23fd2c5",
   "metadata": {},
   "outputs": [
    {
     "name": "stdout",
     "output_type": "stream",
     "text": [
      "[0 5 2 1 1 1]\n",
      "5\n",
      "1\n"
     ]
    }
   ],
   "source": [
    "x=np.array([1,2,3,4,5,1,2,1,1,1])\n",
    "y=np.bincount(x)\n",
    "print(y)\n",
    "m=max(y)\n",
    "print(m)\n",
    "for i in range(len(y)):\n",
    "    if(m==y[i]):\n",
    "        print(i)"
   ]
  },
  {
   "cell_type": "code",
   "execution_count": 53,
   "id": "8f8cb7fc-14b9-4397-8cf4-e364bc568801",
   "metadata": {},
   "outputs": [
    {
     "name": "stdout",
     "output_type": "stream",
     "text": [
      "Most Frequent Value: 1\n",
      "Indices: [0 1 2]\n"
     ]
    }
   ],
   "source": [
    "import numpy as np\n",
    "y=np.array([1,1,1,2,3,4,2,4,3,3])\n",
    "unique,counts=np.unique(y,return_counts=True)\n",
    "most_frequent_value=unique[np.argmax(counts)]\n",
    "indices=np.where(y==most_frequent_value)[0]\n",
    "print(\"Most Frequent Value:\",most_frequent_value)\n",
    "print(\"Indices:\",indices)"
   ]
  },
  {
   "cell_type": "code",
   "execution_count": 107,
   "id": "766eba9c-c2d5-4376-b199-f9ce267f5d81",
   "metadata": {},
   "outputs": [
    {
     "name": "stdout",
     "output_type": "stream",
     "text": [
      "20\n",
      "[10 20 30]\n",
      "[20 50 80]\n",
      "[10 40 70]\n",
      "[70 80 90]\n",
      "[[10 40 70]\n",
      " [20 50 80]\n",
      " [30 60 90]]\n"
     ]
    }
   ],
   "source": [
    "arr=np.array([[10,20,30],[40,50,60],[70,80,90]])\n",
    "print(arr[0][1])\n",
    "print(arr[0])\n",
    "print(arr[:,1])\n",
    "print(arr[:,0])\n",
    "print(arr[2])"
   ]
  },
  {
   "cell_type": "code",
   "execution_count": 61,
   "id": "f3efa7bb-8966-407a-b4ec-0652635cbc13",
   "metadata": {},
   "outputs": [
    {
     "name": "stdout",
     "output_type": "stream",
     "text": [
      "70\n"
     ]
    }
   ],
   "source": [
    "print(arr[2][0])"
   ]
  },
  {
   "cell_type": "code",
   "execution_count": 105,
   "id": "f6058e02-07cd-48b6-9a91-1da65ba2e20c",
   "metadata": {},
   "outputs": [
    {
     "name": "stdout",
     "output_type": "stream",
     "text": [
      "[ 10.    13.75  17.5   21.25  25.    28.75  32.5   36.25  40.    43.75\n",
      "  47.5   51.25  55.    58.75  62.5   66.25  70.    73.75  77.5   81.25\n",
      "  85.    88.75  92.5   96.25 100.  ]\n",
      "1\n",
      "(25,)\n",
      "25\n",
      "float64\n",
      "200\n",
      "[[ 10.    13.75  17.5   21.25  25.    28.75  32.5   36.25  40.    43.75\n",
      "   47.5   51.25  55.    58.75  62.5   66.25  70.    73.75  77.5   81.25\n",
      "   85.    88.75  92.5   96.25 100.  ]]\n",
      "[ 10.    13.75  17.5   21.25  25.    28.75  32.5   36.25  40.    43.75\n",
      "  47.5   51.25  55.    58.75  62.5   66.25  70.    73.75  77.5   81.25\n",
      "  85.    88.75  92.5   96.25 100.  ]\n",
      "(25,)\n"
     ]
    }
   ],
   "source": [
    "rohini=np.linspace(10,100,25)\n",
    "print(rohini)\n",
    "print(np.ndim(rohini))\n",
    "print(np.shape(rohini))\n",
    "print(len(rohini))\n",
    "print(rohini.dtype)\n",
    "print(rohini.nbytes)\n",
    "print(rohini.reshape(1,25))\n",
    "print(rohini.T)\n",
    "print(np.shape(rohini))"
   ]
  },
  {
   "cell_type": "code",
   "execution_count": 127,
   "id": "83a38fd6-0e0f-438d-ad44-6486fe70339f",
   "metadata": {},
   "outputs": [
    {
     "name": "stdout",
     "output_type": "stream",
     "text": [
      "Mean: 43.333333333333336\n",
      "Median: 37.5\n",
      "Max: 90\n",
      "Min: 10\n",
      "[[10 20 30]\n",
      " [40 50 60]\n",
      " [70 80 90]\n",
      " [15 20 35]]\n",
      "[[10 20 30]\n",
      " [40 50 60]]\n"
     ]
    }
   ],
   "source": [
    "ucs420_rohini=np.array([[10,20,30,40],[50,60,70,80],[90,15,20,35]])\n",
    "m=np.mean(ucs420_rohini)\n",
    "print(\"Mean:\",m)\n",
    "x=np.median(ucs420_rohini)\n",
    "print(\"Median:\",x)\n",
    "y=np.max(ucs420_rohini)\n",
    "print(\"Max:\",y)\n",
    "z=np.min(ucs420_rohini)\n",
    "print(\"Min:\",z)\n",
    "reshaped_ucs420_rohini=ucs420_rohini.reshape(4,3)\n",
    "print(reshaped_ucs420_rohini)\n",
    "resized_ucs420_rohini=np.resize(reshaped_ucs420_rohini,(2,3))\n",
    "print(resized_ucs420_rohini)"
   ]
  },
  {
   "cell_type": "code",
   "execution_count": null,
   "id": "5d9fcfc2-5b6f-41cd-ae9f-a86aa271c151",
   "metadata": {},
   "outputs": [],
   "source": []
  }
 ],
 "metadata": {
  "kernelspec": {
   "display_name": "Python 3 (ipykernel)",
   "language": "python",
   "name": "python3"
  },
  "language_info": {
   "codemirror_mode": {
    "name": "ipython",
    "version": 3
   },
   "file_extension": ".py",
   "mimetype": "text/x-python",
   "name": "python",
   "nbconvert_exporter": "python",
   "pygments_lexer": "ipython3",
   "version": "3.11.7"
  }
 },
 "nbformat": 4,
 "nbformat_minor": 5
}
