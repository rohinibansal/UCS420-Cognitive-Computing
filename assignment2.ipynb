{
 "cells": [
  {
   "cell_type": "code",
   "execution_count": 1,
   "id": "b13fcde9-d0b9-4865-8b14-2620a991c8a5",
   "metadata": {},
   "outputs": [
    {
     "name": "stdout",
     "output_type": "stream",
     "text": [
      "after appending 200 and 300\n",
      "[10, 20, 30, 40, 50, 60, 70, 80, 200, 300]\n",
      "after removing 10 and 30\n",
      "[20, 40, 50, 60, 70, 80, 200, 300]\n",
      "after sorting in ascending order\n",
      "[20, 40, 50, 60, 70, 80, 200, 300]\n",
      "after sorting in descending order\n",
      "[300, 200, 80, 70, 60, 50, 40, 20]\n"
     ]
    }
   ],
   "source": [
    "l=[10,20,30,40,50,60,70,80]\n",
    "print('after appending 200 and 300')\n",
    "l.extend([200,300])\n",
    "print(l)\n",
    "print('after removing 10 and 30')\n",
    "l.remove(10)\n",
    "l.remove(30)\n",
    "print(l)\n",
    "print('after sorting in ascending order')\n",
    "l.sort()\n",
    "print(l)\n",
    "print('after sorting in descending order')\n",
    "l.sort(reverse='True')\n",
    "print(l)"
   ]
  },
  {
   "cell_type": "code",
   "execution_count": 31,
   "id": "334fc517-c683-40dd-ae10-1faa0e4a5eea",
   "metadata": {},
   "outputs": [
    {
     "name": "stdout",
     "output_type": "stream",
     "text": [
      "Highest score and its index\n",
      "92 at index 5\n",
      "lowest score\n",
      "45 appears 2 times\n",
      "[45, 58, 92, 89, 45.4, 76, 89.5, 45]\n"
     ]
    },
    {
     "name": "stdin",
     "output_type": "stream",
     "text": [
      "Enter a number: 76\n"
     ]
    },
    {
     "name": "stdout",
     "output_type": "stream",
     "text": [
      "76 is present at index 2\n"
     ]
    }
   ],
   "source": [
    "scores = (45, 89.5, 76, 45.4, 89, 92, 58, 45)\n",
    "print('Highest score and its index')\n",
    "highest=max(scores)\n",
    "x=scores.index(highest)\n",
    "print(highest,'at index',x)\n",
    "print('lowest score')\n",
    "lowest=min(scores)\n",
    "y=scores.count(lowest)\n",
    "print(lowest,'appears',y,'times')\n",
    "l=list(scores)\n",
    "l.reverse()\n",
    "print(l)\n",
    "var=int(input('Enter a number:'))\n",
    "if var in scores:\n",
    "    print(var,'is present at index',scores.index(var))\n",
    "else:\n",
    "    print(var,'not present')"
   ]
  },
  {
   "cell_type": "code",
   "execution_count": 33,
   "id": "21000707-6474-455c-b641-5a530ab41135",
   "metadata": {},
   "outputs": [
    {
     "name": "stdout",
     "output_type": "stream",
     "text": [
      "[680, 804, 248, 560, 133, 476, 582, 194, 626, 772, 875, 466, 473, 819, 364, 341, 880, 689, 389, 757, 291, 133, 627, 158, 791, 230, 360, 595, 603, 166, 619, 612, 243, 817, 376, 686, 807, 463, 629, 234, 289, 195, 753, 558, 355, 664, 704, 250, 765, 638, 404, 630, 266, 410, 793, 473, 804, 590, 154, 445, 819, 169, 128, 396, 127, 261, 623, 822, 225, 112, 318, 818, 177, 767, 814, 587, 399, 655, 518, 247, 164, 108, 257, 169, 455, 866, 573, 531, 656, 791, 611, 240, 160, 449, 862, 449, 379, 501, 542, 816]\n",
      "Total even numbers are 49\n",
      "Even numbers: [680, 804, 248, 560, 476, 582, 194, 626, 772, 466, 364, 880, 158, 230, 360, 166, 612, 376, 686, 234, 558, 664, 704, 250, 638, 404, 630, 266, 410, 804, 590, 154, 128, 396, 822, 112, 318, 818, 814, 518, 164, 108, 866, 656, 240, 160, 862, 542, 816]\n",
      "Total odd numbers are 51\n",
      "Odd numbers: [133, 875, 473, 819, 341, 689, 389, 757, 291, 133, 627, 791, 595, 603, 619, 243, 817, 807, 463, 629, 289, 195, 753, 355, 765, 793, 473, 445, 819, 169, 127, 261, 623, 225, 177, 767, 587, 399, 655, 247, 257, 169, 455, 573, 531, 791, 611, 449, 449, 379, 501]\n",
      "Prime Numbers: [389, 757, 619, 463, 127, 587, 257, 449, 449, 379]\n",
      "Total prime numbers are 10\n"
     ]
    }
   ],
   "source": [
    "import random as r\n",
    "r_no = r.choices(range(100, 901), k=100)\n",
    "print(r_no)\n",
    "even_c = 0\n",
    "odd_c = 0\n",
    "prime_c=0\n",
    "for x in r_no:\n",
    "    if x % 2 == 0:\n",
    "        even_c += 1\n",
    "    else:\n",
    "        odd_c += 1\n",
    "print('Total even numbers are', even_c)\n",
    "print(\"Even numbers:\", [num for num in r_no if num % 2 == 0])\n",
    "print('Total odd numbers are', odd_c)\n",
    "print(\"Odd numbers:\", [num for num in r_no if num % 2 != 0])\n",
    "def is_prime(n):\n",
    "    if n < 2:\n",
    "        return False\n",
    "    for i in range(2, int(n**0.5) + 1):\n",
    "        if n % i == 0:\n",
    "            return False\n",
    "    return True\n",
    "print(\"Prime Numbers:\", [num for num in r_no if is_prime(num)])\n",
    "for num in r_no:\n",
    "    if(is_prime(num)):\n",
    "        prime_c=prime_c+1\n",
    "print('Total prime numbers are',prime_c)"
   ]
  },
  {
   "cell_type": "code",
   "execution_count": 49,
   "id": "6f3e4b4f-dd67-4d03-a355-5d031480e0db",
   "metadata": {},
   "outputs": [
    {
     "name": "stdout",
     "output_type": "stream",
     "text": [
      "Union: {34, 45, 78, 23, 56, 90}\n",
      "Intersection: {90, 78}\n",
      "Symmetric Difference: {34, 45, 23, 56}\n",
      "A is subset of B: False\n",
      "B is superset of A: False\n"
     ]
    },
    {
     "name": "stdin",
     "output_type": "stream",
     "text": [
      "Enter a score to remove from A:  34\n"
     ]
    },
    {
     "name": "stdout",
     "output_type": "stream",
     "text": [
      "Updated A: {56, 90, 78}\n"
     ]
    }
   ],
   "source": [
    "A = {34, 56, 78, 90}\n",
    "B = {78, 45, 90, 23}\n",
    "print(\"Union:\", A | B)\n",
    "print(\"Intersection:\", A & B)\n",
    "print(\"Symmetric Difference:\", A ^ B)\n",
    "print(\"A is subset of B:\", A.issubset(B))\n",
    "print(\"B is superset of A:\", B.issuperset(A))\n",
    "X = int(input(\"Enter a score to remove from A: \"))\n",
    "if X in A:\n",
    "    A.remove(X)\n",
    "    print(\"Updated A:\", A)\n",
    "else:\n",
    "    print(\"Score not present in A\")\n"
   ]
  },
  {
   "cell_type": "code",
   "execution_count": 53,
   "id": "8e3b374d-e132-4570-a801-fc50764eb87e",
   "metadata": {},
   "outputs": [
    {
     "name": "stdout",
     "output_type": "stream",
     "text": [
      "{'name': 'Kelly', 'age': 25, 'Salary': 8000, 'location': 'New York'}\n"
     ]
    }
   ],
   "source": [
    "dict={\n",
    "    \"name\":\"Kelly\",\n",
    "    \"age\":25,\n",
    "    \"Salary\":8000,\n",
    "    \"city\":\"New York\"\n",
    "}\n",
    "dict[\"location\"]=dict.pop(\"city\")\n",
    "print(dict)"
   ]
  },
  {
   "cell_type": "code",
   "execution_count": null,
   "id": "f512a31b-50dc-4286-b912-afcab100f25f",
   "metadata": {},
   "outputs": [],
   "source": []
  }
 ],
 "metadata": {
  "kernelspec": {
   "display_name": "Python [conda env:base] *",
   "language": "python",
   "name": "conda-base-py"
  },
  "language_info": {
   "codemirror_mode": {
    "name": "ipython",
    "version": 3
   },
   "file_extension": ".py",
   "mimetype": "text/x-python",
   "name": "python",
   "nbconvert_exporter": "python",
   "pygments_lexer": "ipython3",
   "version": "3.12.7"
  }
 },
 "nbformat": 4,
 "nbformat_minor": 5
}
